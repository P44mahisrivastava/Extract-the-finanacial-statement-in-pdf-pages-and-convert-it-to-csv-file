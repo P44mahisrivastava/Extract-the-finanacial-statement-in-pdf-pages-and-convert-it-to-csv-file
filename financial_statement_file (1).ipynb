{
 "cells": [
  {
   "cell_type": "code",
   "execution_count": 1,
   "metadata": {},
   "outputs": [
    {
     "name": "stdout",
     "output_type": "stream",
     "text": [
      "Requirement already satisfied: PyPDF2 in c:\\programdata\\anaconda3\\lib\\site-packages (1.26.0)\n"
     ]
    },
    {
     "name": "stderr",
     "output_type": "stream",
     "text": [
      "WARNING: You are using pip version 20.3.3; however, version 21.2.2 is available.\n",
      "You should consider upgrading via the 'c:\\programdata\\anaconda3\\python.exe -m pip install --upgrade pip' command.\n"
     ]
    }
   ],
   "source": [
    "!pip install PyPDF2\n",
    "from PyPDF2 import PdfFileReader, PdfFileWriter\n",
    "\n",
    "# Note: index starts at 1 and is inclusive of the end. \n",
    "# The following will extract page 3 of the pdf file.\n",
    "pdfs = {'credit_siddhi.pdf': ({'start': 4, 'end': 4},)}  \n",
    "\n",
    "for pdf, segments in pdfs.items():\n",
    "    pdf_reader = PdfFileReader(open(pdf, 'rb'))\n",
    "    for segment in segments:\n",
    "        pdf_writer = PdfFileWriter()\n",
    "        start_page = segment['start']\n",
    "        end_page = segment['end']\n",
    "        for page_num in range(start_page - 1, end_page):\n",
    "            pdf_writer.addPage(pdf_reader.getPage(page_num))\n",
    "        output_filename = f'{pdf}_{start_page}_page_{end_page}.pdf'\n",
    "        with open(output_filename,'wb') as out:\n",
    "            pdf_writer.write(out)"
   ]
  },
  {
   "cell_type": "code",
   "execution_count": 3,
   "metadata": {},
   "outputs": [
    {
     "name": "stdout",
     "output_type": "stream",
     "text": [
      "Requirement already satisfied: pdftables.six==0.0.5 in c:\\programdata\\anaconda3\\lib\\site-packages (0.0.5)\n",
      "Requirement already satisfied: pdfminer.six>=20160614 in c:\\programdata\\anaconda3\\lib\\site-packages (from pdftables.six==0.0.5) (20201018)\n",
      "Requirement already satisfied: numpy>=1.6.2 in c:\\programdata\\anaconda3\\lib\\site-packages (from pdftables.six==0.0.5) (1.19.1)\n",
      "Requirement already satisfied: sortedcontainers in c:\\programdata\\anaconda3\\lib\\site-packages (from pdfminer.six>=20160614->pdftables.six==0.0.5) (2.1.0)\n",
      "Requirement already satisfied: cryptography in c:\\programdata\\anaconda3\\lib\\site-packages (from pdfminer.six>=20160614->pdftables.six==0.0.5) (2.8)\n",
      "Requirement already satisfied: chardet in c:\\programdata\\anaconda3\\lib\\site-packages (from pdfminer.six>=20160614->pdftables.six==0.0.5) (3.0.4)\n",
      "Requirement already satisfied: six>=1.4.1 in c:\\programdata\\anaconda3\\lib\\site-packages (from cryptography->pdfminer.six>=20160614->pdftables.six==0.0.5) (1.14.0)\n",
      "Requirement already satisfied: cffi!=1.11.3,>=1.8 in c:\\programdata\\anaconda3\\lib\\site-packages (from cryptography->pdfminer.six>=20160614->pdftables.six==0.0.5) (1.14.0)\n",
      "Requirement already satisfied: pycparser in c:\\programdata\\anaconda3\\lib\\site-packages (from cffi!=1.11.3,>=1.8->cryptography->pdfminer.six>=20160614->pdftables.six==0.0.5) (2.19)\n",
      "Note: you may need to restart the kernel to use updated packages.\n"
     ]
    },
    {
     "name": "stderr",
     "output_type": "stream",
     "text": [
      "WARNING: You are using pip version 20.3.3; however, version 21.2.3 is available.\n",
      "You should consider upgrading via the 'C:\\ProgramData\\Anaconda3\\python.exe -m pip install --upgrade pip' command.\n"
     ]
    }
   ],
   "source": [
    "pip install pdftables.six==0.0.5"
   ]
  },
  {
   "cell_type": "code",
   "execution_count": 4,
   "metadata": {},
   "outputs": [],
   "source": [
    "import pdftables"
   ]
  },
  {
   "cell_type": "code",
   "execution_count": 5,
   "metadata": {},
   "outputs": [],
   "source": [
    "import pdftables_api"
   ]
  },
  {
   "cell_type": "code",
   "execution_count": 9,
   "metadata": {},
   "outputs": [],
   "source": [
    "c = pdftables_api.Client('gmyafg7koq1m')\n",
    "c.csv('credit_siddhi.pdf_4_page_4.pdf', 'consolidated_balance_sheet') "
   ]
  },
  {
   "cell_type": "code",
   "execution_count": 10,
   "metadata": {},
   "outputs": [],
   "source": [
    "from PyPDF2 import PdfFileReader, PdfFileWriter\n",
    "\n",
    "# Note: index starts at 1 and is inclusive of the end. \n",
    "# The following will extract page 3 of the pdf file.\n",
    "pdfs = {'credit_siddhi.pdf': ({'start': 5, 'end': 5},)}  \n",
    "\n",
    "for pdf, segments in pdfs.items():\n",
    "    pdf_reader = PdfFileReader(open(pdf, 'rb'))\n",
    "    for segment in segments:\n",
    "        pdf_writer = PdfFileWriter()\n",
    "        start_page = segment['start']\n",
    "        end_page = segment['end']\n",
    "        for page_num in range(start_page - 1, end_page):\n",
    "            pdf_writer.addPage(pdf_reader.getPage(page_num))\n",
    "        output_filename = f'{pdf}_{start_page}_page_{end_page}.pdf'\n",
    "        with open(output_filename,'wb') as out:\n",
    "            pdf_writer.write(out)"
   ]
  },
  {
   "cell_type": "code",
   "execution_count": 11,
   "metadata": {},
   "outputs": [],
   "source": [
    "c = pdftables_api.Client('gmyafg7koq1m')\n",
    "c.csv('credit_siddhi.pdf_5_page_5.pdf', 'Profit&Loss_sheet') "
   ]
  },
  {
   "cell_type": "code",
   "execution_count": null,
   "metadata": {},
   "outputs": [],
   "source": []
  }
 ],
 "metadata": {
  "kernelspec": {
   "display_name": "Python 3",
   "language": "python",
   "name": "python3"
  },
  "language_info": {
   "codemirror_mode": {
    "name": "ipython",
    "version": 3
   },
   "file_extension": ".py",
   "mimetype": "text/x-python",
   "name": "python",
   "nbconvert_exporter": "python",
   "pygments_lexer": "ipython3",
   "version": "3.7.6"
  }
 },
 "nbformat": 4,
 "nbformat_minor": 4
}
